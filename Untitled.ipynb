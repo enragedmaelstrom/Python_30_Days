{
 "cells": [
  {
   "cell_type": "code",
   "execution_count": 3,
   "id": "a46d1c0a",
   "metadata": {},
   "outputs": [
    {
     "name": "stdout",
     "output_type": "stream",
     "text": [
      "0.7692307692307693\n",
      "10.0\n",
      "11.0\n"
     ]
    }
   ],
   "source": [
    "print(5/6.5)\n",
    "print(20/2)\n",
    "print(5.5/0.5)"
   ]
  },
  {
   "cell_type": "code",
   "execution_count": 4,
   "id": "ddde9b5f",
   "metadata": {},
   "outputs": [
    {
     "name": "stdout",
     "output_type": "stream",
     "text": [
      "25\n"
     ]
    }
   ],
   "source": [
    "print(25)"
   ]
  },
  {
   "cell_type": "code",
   "execution_count": 5,
   "id": "43bc6c53",
   "metadata": {},
   "outputs": [
    {
     "name": "stdout",
     "output_type": "stream",
     "text": [
      "9855\n"
     ]
    }
   ],
   "source": [
    "print(365*27)"
   ]
  },
  {
   "cell_type": "code",
   "execution_count": 6,
   "id": "0c1c9c1f",
   "metadata": {},
   "outputs": [
    {
     "name": "stdout",
     "output_type": "stream",
     "text": [
      "1404\n"
     ]
    }
   ],
   "source": [
    "print(52*27)"
   ]
  },
  {
   "cell_type": "code",
   "execution_count": 7,
   "id": "c85887d1",
   "metadata": {},
   "outputs": [
    {
     "name": "stdout",
     "output_type": "stream",
     "text": [
      "324\n"
     ]
    }
   ],
   "source": [
    "print(12*27)"
   ]
  },
  {
   "cell_type": "code",
   "execution_count": 17,
   "id": "78ebde7c",
   "metadata": {},
   "outputs": [
    {
     "name": "stdout",
     "output_type": "stream",
     "text": [
      "Please enter your name:  Sneed\n"
     ]
    }
   ],
   "source": [
    "name = input(\"Please enter your name:  \")"
   ]
  },
  {
   "cell_type": "code",
   "execution_count": 15,
   "id": "28ec971f",
   "metadata": {
    "scrolled": true
   },
   "outputs": [
    {
     "name": "stdout",
     "output_type": "stream",
     "text": [
      "Please enter your age:  25\n"
     ]
    }
   ],
   "source": [
    "age = input(\"Please enter your age:  \")"
   ]
  },
  {
   "cell_type": "code",
   "execution_count": 18,
   "id": "0183c3bc",
   "metadata": {},
   "outputs": [
    {
     "name": "stdout",
     "output_type": "stream",
     "text": [
      "Sneed 25\n"
     ]
    }
   ],
   "source": [
    "print(name,age)"
   ]
  },
  {
   "cell_type": "code",
   "execution_count": 19,
   "id": "70751259",
   "metadata": {},
   "outputs": [
    {
     "name": "stdout",
     "output_type": "stream",
     "text": [
      "Please enter your name:  weed\n"
     ]
    }
   ],
   "source": [
    "name = input(\"Please enter your name:  \")"
   ]
  },
  {
   "cell_type": "code",
   "execution_count": 25,
   "id": "b5c76491",
   "metadata": {},
   "outputs": [
    {
     "name": "stdout",
     "output_type": "stream",
     "text": [
      "Please enter your hourly wage: 20\n",
      "How many hours did you work this week?: 40\n",
      "Hourly wage: \n",
      "20\n",
      "Hours worked: \n",
      "40\n"
     ]
    }
   ],
   "source": [
    "hourly_wage = input(\"Please enter your hourly wage: \")\n",
    "hours_worked = input(\"How many hours did you work this week?: \")\n",
    "print(\"Hourly wage: \")\n",
    "print(hourly_wage)\n",
    "print(\"Hours worked: \")\n",
    "print(hours_worked)"
   ]
  },
  {
   "cell_type": "code",
   "execution_count": null,
   "id": "498b41e2",
   "metadata": {},
   "outputs": [],
   "source": []
  }
 ],
 "metadata": {
  "kernelspec": {
   "display_name": "Python 3 (ipykernel)",
   "language": "python",
   "name": "python3"
  },
  "language_info": {
   "codemirror_mode": {
    "name": "ipython",
    "version": 3
   },
   "file_extension": ".py",
   "mimetype": "text/x-python",
   "name": "python",
   "nbconvert_exporter": "python",
   "pygments_lexer": "ipython3",
   "version": "3.9.12"
  }
 },
 "nbformat": 4,
 "nbformat_minor": 5
}
