{
 "cells": [
  {
   "cell_type": "code",
   "execution_count": 1,
   "id": "37ec2d5d",
   "metadata": {},
   "outputs": [
    {
     "data": {
      "text/plain": [
       "20"
      ]
     },
     "execution_count": 1,
     "metadata": {},
     "output_type": "execute_result"
    }
   ],
   "source": [
    "10 + 10"
   ]
  },
  {
   "cell_type": "code",
   "execution_count": 2,
   "id": "bc0dc80b",
   "metadata": {},
   "outputs": [
    {
     "data": {
      "text/plain": [
       "9890787389793"
      ]
     },
     "execution_count": 2,
     "metadata": {},
     "output_type": "execute_result"
    }
   ],
   "source": [
    "10 + 9890787389783"
   ]
  },
  {
   "cell_type": "code",
   "execution_count": 3,
   "id": "34d1178e",
   "metadata": {},
   "outputs": [
    {
     "data": {
      "text/plain": [
       "372"
      ]
     },
     "execution_count": 3,
     "metadata": {},
     "output_type": "execute_result"
    }
   ],
   "source": [
    "12 * 31"
   ]
  },
  {
   "cell_type": "code",
   "execution_count": 4,
   "id": "765e5824",
   "metadata": {},
   "outputs": [
    {
     "data": {
      "text/plain": [
       "0.05555555555555555"
      ]
     },
     "execution_count": 4,
     "metadata": {},
     "output_type": "execute_result"
    }
   ],
   "source": [
    "24 / 432"
   ]
  },
  {
   "cell_type": "code",
   "execution_count": 5,
   "id": "0bbd1179",
   "metadata": {},
   "outputs": [
    {
     "data": {
      "text/plain": [
       "81"
      ]
     },
     "execution_count": 5,
     "metadata": {},
     "output_type": "execute_result"
    }
   ],
   "source": [
    "3 ** 4"
   ]
  },
  {
   "cell_type": "code",
   "execution_count": 6,
   "id": "ba8b0a09",
   "metadata": {},
   "outputs": [
    {
     "data": {
      "text/plain": [
       "2.23606797749979"
      ]
     },
     "execution_count": 6,
     "metadata": {},
     "output_type": "execute_result"
    }
   ],
   "source": [
    "5 ** (1/2)"
   ]
  },
  {
   "cell_type": "code",
   "execution_count": 7,
   "id": "3299f504",
   "metadata": {},
   "outputs": [],
   "source": [
    "import math"
   ]
  },
  {
   "cell_type": "code",
   "execution_count": 8,
   "id": "20dec288",
   "metadata": {},
   "outputs": [
    {
     "data": {
      "text/plain": [
       "2"
      ]
     },
     "execution_count": 8,
     "metadata": {},
     "output_type": "execute_result"
    }
   ],
   "source": [
    "math.floor(5 ** (1/2))"
   ]
  },
  {
   "cell_type": "code",
   "execution_count": 9,
   "id": "a5dd14cc",
   "metadata": {},
   "outputs": [
    {
     "data": {
      "text/plain": [
       "'3333333333333333333333333333333333333333333333333333333333333333333333333333333333333333333333333333333333333333333333333333333333333333333333333333333333333333333333333333333333333333333333333333333333333333333333333333333333333333'"
      ]
     },
     "execution_count": 9,
     "metadata": {},
     "output_type": "execute_result"
    }
   ],
   "source": [
    "\"3\" * 232"
   ]
  },
  {
   "cell_type": "code",
   "execution_count": 10,
   "id": "b4dce98c",
   "metadata": {},
   "outputs": [
    {
     "data": {
      "text/plain": [
       "'hello worldhello worldhello world'"
      ]
     },
     "execution_count": 10,
     "metadata": {},
     "output_type": "execute_result"
    }
   ],
   "source": [
    "\"hello world\" * 3"
   ]
  },
  {
   "cell_type": "code",
   "execution_count": 11,
   "id": "410055e0",
   "metadata": {},
   "outputs": [
    {
     "data": {
      "text/plain": [
       "'hello worldanother'"
      ]
     },
     "execution_count": 11,
     "metadata": {},
     "output_type": "execute_result"
    }
   ],
   "source": [
    "\"hello world\" + \"another\""
   ]
  },
  {
   "cell_type": "code",
   "execution_count": 12,
   "id": "14fcde65",
   "metadata": {},
   "outputs": [
    {
     "data": {
      "text/plain": [
       "'hello world another'"
      ]
     },
     "execution_count": 12,
     "metadata": {},
     "output_type": "execute_result"
    }
   ],
   "source": [
    "\"hello world\" + \" \" + \"another\""
   ]
  },
  {
   "cell_type": "code",
   "execution_count": 13,
   "id": "d12d5c00",
   "metadata": {},
   "outputs": [
    {
     "data": {
      "text/plain": [
       "'hello world another'"
      ]
     },
     "execution_count": 13,
     "metadata": {},
     "output_type": "execute_result"
    }
   ],
   "source": [
    "\"hello world another\""
   ]
  },
  {
   "cell_type": "code",
   "execution_count": 14,
   "id": "331be58f",
   "metadata": {},
   "outputs": [],
   "source": [
    "phrase = \"and that's what we want to see\""
   ]
  },
  {
   "cell_type": "code",
   "execution_count": 15,
   "id": "5e9209a2",
   "metadata": {},
   "outputs": [
    {
     "data": {
      "text/plain": [
       "\"and that's what we want to see\""
      ]
     },
     "execution_count": 15,
     "metadata": {},
     "output_type": "execute_result"
    }
   ],
   "source": [
    "phrase"
   ]
  },
  {
   "cell_type": "code",
   "execution_count": 16,
   "id": "ee83a0cb",
   "metadata": {},
   "outputs": [],
   "source": [
    "number = 123123"
   ]
  },
  {
   "cell_type": "code",
   "execution_count": 17,
   "id": "b3522bc9",
   "metadata": {},
   "outputs": [],
   "source": [
    "numb2 = \"12312\""
   ]
  },
  {
   "cell_type": "code",
   "execution_count": 18,
   "id": "17354462",
   "metadata": {},
   "outputs": [
    {
     "data": {
      "text/plain": [
       "384653735466"
      ]
     },
     "execution_count": 18,
     "metadata": {},
     "output_type": "execute_result"
    }
   ],
   "source": [
    "number * 3124142"
   ]
  },
  {
   "cell_type": "code",
   "execution_count": 19,
   "id": "0c268c82",
   "metadata": {},
   "outputs": [
    {
     "data": {
      "text/plain": [
       "'123121231212312'"
      ]
     },
     "execution_count": 19,
     "metadata": {},
     "output_type": "execute_result"
    }
   ],
   "source": [
    "numb2 * 3"
   ]
  },
  {
   "cell_type": "code",
   "execution_count": 20,
   "id": "2e62ea5f",
   "metadata": {},
   "outputs": [
    {
     "data": {
      "text/plain": [
       "'They call him Sneed'"
      ]
     },
     "execution_count": 20,
     "metadata": {},
     "output_type": "execute_result"
    }
   ],
   "source": [
    "'They call him Sneed'"
   ]
  },
  {
   "cell_type": "code",
   "execution_count": 21,
   "id": "4fcb92a2",
   "metadata": {},
   "outputs": [
    {
     "data": {
      "text/plain": [
       "'They call him \"Sneed\"'"
      ]
     },
     "execution_count": 21,
     "metadata": {},
     "output_type": "execute_result"
    }
   ],
   "source": [
    "'They call him \\\"Sneed\\\"'"
   ]
  }
 ],
 "metadata": {
  "interpreter": {
   "hash": "516736420ec49388a25b2387752365ec55c39de756c745f25e8fe3211844a774"
  },
  "kernelspec": {
   "display_name": "Python 3 (ipykernel)",
   "language": "python",
   "name": "python3"
  },
  "language_info": {
   "codemirror_mode": {
    "name": "ipython",
    "version": 3
   },
   "file_extension": ".py",
   "mimetype": "text/x-python",
   "name": "python",
   "nbconvert_exporter": "python",
   "pygments_lexer": "ipython3",
   "version": "3.9.7"
  }
 },
 "nbformat": 4,
 "nbformat_minor": 5
}
