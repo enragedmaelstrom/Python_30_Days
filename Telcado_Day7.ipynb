{
 "cells": [
  {
   "cell_type": "code",
   "execution_count": 33,
   "id": "99b678d7-9592-45b4-b373-4abbd346f35a",
   "metadata": {},
   "outputs": [
    {
     "name": "stdout",
     "output_type": "stream",
     "text": [
      "['0', '1', '2', '3', '4', '5']\n",
      "['0', '1', '2', '3', '4', '5']\n",
      "['0', '1', '2', '3', '4', '5']\n"
     ]
    }
   ],
   "source": [
    "numbers = ['0','1','2','3','4','5']\n",
    "print(numbers)\n",
    "numbers = str(numbers)\n",
    "print(numbers)\n",
    "numbers = \"\".join(numbers)\n",
    "print(f\"{numbers}\")"
   ]
  },
  {
   "cell_type": "code",
   "execution_count": 31,
   "id": "299f3c37-f4e2-4050-86cb-5eb7d8afc94a",
   "metadata": {},
   "outputs": [
    {
     "name": "stdout",
     "output_type": "stream",
     "text": [
      "The people who worked on this project are: Mike, Sofia, Helen.\n"
     ]
    }
   ],
   "source": [
    "project_authors = [\"Mike\", \"Sofia\", \"Helen\"]\n",
    "\n",
    "print(f\"The people who worked on this project are: {', '.join(project_authors)}.\")"
   ]
  },
  {
   "cell_type": "code",
   "execution_count": 36,
   "id": "cfcbc3f7-4f54-4df6-909d-e76ff6871009",
   "metadata": {},
   "outputs": [
    {
     "name": "stdout",
     "output_type": "stream",
     "text": [
      "['1']\n",
      "['1', '2']\n",
      "['1', '2', '3']\n",
      "['1', '2', '3', '4']\n",
      "['1', '2', '3', '4', '5']\n",
      "1, 2, 3, 4, 5\n"
     ]
    }
   ],
   "source": [
    "numbers = [1, 2, 3, 4, 5]\n",
    "\n",
    "stringified_numbers = []\n",
    "\n",
    "for number in numbers:\n",
    "    stringified_numbers.append(str(number))\n",
    "    print(stringified_numbers)\n",
    "print(', '.join(stringified_numbers)) # 1, 2, 3, 4, 5"
   ]
  },
  {
   "cell_type": "code",
   "execution_count": 45,
   "id": "bc164dc0-de6e-403f-8ab1-749066c46e57",
   "metadata": {},
   "outputs": [
    {
     "name": "stdin",
     "output_type": "stream",
     "text": [
      "Please enter your first and last name seperated by commas:  Sneedy,Chuck\n"
     ]
    }
   ],
   "source": [
    "full_name = input(\"Please enter your first and last name seperated by commas: \")\n",
    "full_name = full_name.split(\",\")"
   ]
  },
  {
   "cell_type": "code",
   "execution_count": 46,
   "id": "f31c11d3-0e6b-4bf8-8fc1-47a15cdce61f",
   "metadata": {},
   "outputs": [
    {
     "data": {
      "text/plain": [
       "['Sneedy', 'Chuck']"
      ]
     },
     "execution_count": 46,
     "metadata": {},
     "output_type": "execute_result"
    }
   ],
   "source": [
    "full_name"
   ]
  },
  {
   "cell_type": "code",
   "execution_count": 47,
   "id": "83664e0e-cfad-4398-99a2-288306d6ca25",
   "metadata": {},
   "outputs": [],
   "source": [
    "First_name = full_name[0]"
   ]
  },
  {
   "cell_type": "code",
   "execution_count": 48,
   "id": "6c71ce54-1ae0-4069-8e8d-575fd7fac76e",
   "metadata": {},
   "outputs": [],
   "source": [
    "last_name = full_name[1]"
   ]
  },
  {
   "cell_type": "code",
   "execution_count": 49,
   "id": "49414b17-eeaa-488f-85b9-0279c43b2c79",
   "metadata": {},
   "outputs": [
    {
     "data": {
      "text/plain": [
       "'Chuck'"
      ]
     },
     "execution_count": 49,
     "metadata": {},
     "output_type": "execute_result"
    }
   ],
   "source": [
    "last_name"
   ]
  },
  {
   "cell_type": "code",
   "execution_count": 51,
   "id": "2dd346b0-5377-4115-be53-a68937b2f327",
   "metadata": {},
   "outputs": [
    {
     "data": {
      "text/plain": [
       "'Sneedy'"
      ]
     },
     "execution_count": 51,
     "metadata": {},
     "output_type": "execute_result"
    }
   ],
   "source": [
    "First_name"
   ]
  },
  {
   "cell_type": "code",
   "execution_count": 56,
   "id": "001deaff-2967-4444-ac3c-d044bba59ae4",
   "metadata": {},
   "outputs": [
    {
     "name": "stdout",
     "output_type": "stream",
     "text": [
      "Your first name is Sneedy and your last name is Chuck\n"
     ]
    }
   ],
   "source": [
    "print(f\"Your first name is {First_name} and your last name is {last_name}\")"
   ]
  },
  {
   "cell_type": "code",
   "execution_count": 58,
   "id": "6c91266c-d663-4393-bdf3-9a49e93c85d0",
   "metadata": {},
   "outputs": [
    {
     "name": "stdout",
     "output_type": "stream",
     "text": [
      "['1']\n",
      "['1', '2']\n",
      "['1', '2', '3']\n",
      "['1', '2', '3', '4']\n",
      "['1', '2', '3', '4', '5']\n",
      "1 | 2 | 3 | 4 | 5\n"
     ]
    }
   ],
   "source": [
    "numbers = [1, 2, 3, 4, 5]\n",
    "\n",
    "stringified_numbers = []\n",
    "\n",
    "for number in numbers:\n",
    "    stringified_numbers.append(str(number))\n",
    "    print(stringified_numbers)\n",
    "print(' | '.join(stringified_numbers)) # 1, 2, 3, 4, 5"
   ]
  },
  {
   "cell_type": "code",
   "execution_count": 83,
   "id": "80871f0c-2c13-4ea4-9e99-e66d7f408bda",
   "metadata": {},
   "outputs": [
    {
     "name": "stdout",
     "output_type": "stream",
     "text": [
      "What a waste my life would be without all the beautiful mistakes I've made.\n",
      "A bend in the road is not the end of the road... Unless you fail to make the turn.\n",
      "The very essence of romance is uncertainty.\n",
      "We are not here to do what has already been done.\n"
     ]
    }
   ],
   "source": [
    " quotes = [\n",
    "     \"'What a waste my life would be without all the beautiful mistakes I've made.'\",\n",
    "     \"'A bend in the road is not the end of the road... Unless you fail to make the turn.'\",\n",
    "     \"'The very essence of romance is uncertainty.'\",\n",
    "     \"'We are not here to do what has already been done.'\"\n",
    " ]\n",
    "for quote in quotes:\n",
    "    sneed_quote = quote.strip(\",\")[1:-1]\n",
    "    print(sneed_quote)"
   ]
  },
  {
   "cell_type": "code",
   "execution_count": 106,
   "id": "e9034a66-4a77-40d3-b9ae-3d69f8a30077",
   "metadata": {},
   "outputs": [],
   "source": [
    "cee_quote = quotes[0].strip(\",\")[1:-2]"
   ]
  },
  {
   "cell_type": "code",
   "execution_count": 107,
   "id": "07f9820b-f70a-40d3-b959-6715cc2835c5",
   "metadata": {},
   "outputs": [
    {
     "data": {
      "text/plain": [
       "\"What a waste my life would be without all the beautiful mistakes I've made\""
      ]
     },
     "execution_count": 107,
     "metadata": {},
     "output_type": "execute_result"
    }
   ],
   "source": [
    "cee_quote"
   ]
  },
  {
   "cell_type": "code",
   "execution_count": 117,
   "id": "1dcbc068-9588-4539-8f9f-ce475c608255",
   "metadata": {},
   "outputs": [
    {
     "name": "stdin",
     "output_type": "stream",
     "text": [
      "Please enter schizophrenic ramblings:  d ddddddddddddddddd\n"
     ]
    },
    {
     "name": "stdout",
     "output_type": "stream",
     "text": [
      "Your word count is: 19\n"
     ]
    }
   ],
   "source": [
    "wall_of_text = input(f\"Please enter schizophrenic ramblings: \").strip()\n",
    "print(f\"Your word count is: {len(wall_of_text)}\")"
   ]
  },
  {
   "cell_type": "code",
   "execution_count": 118,
   "id": "58667318-c877-424b-8167-310ff35ee884",
   "metadata": {},
   "outputs": [
    {
     "data": {
      "text/plain": [
       "'d ddddddddddddddddd'"
      ]
     },
     "execution_count": 118,
     "metadata": {},
     "output_type": "execute_result"
    }
   ],
   "source": [
    "wall_of_text"
   ]
  },
  {
   "cell_type": "code",
   "execution_count": 120,
   "id": "013b9409-090e-4ebb-9a46-3516a09542a7",
   "metadata": {},
   "outputs": [],
   "source": [
    "movies = [\n",
    "    (\"Eternal Sunshine of the Spotless Mind\", 20000000),\n",
    "    (\"Memento\", 9000000),\n",
    "    (\"Requiem for a Dream\", 4500000),\n",
    "    (\"Pirates of the Caribbean: On Stranger Tides\", 379000000),\n",
    "    (\"Avengers: Age of Ultron\", 365000000),\n",
    "    (\"Avengers: Endgame\", 356000000),\n",
    "    (\"Incredibles 2\", 200000000)\n",
    "]\n",
    "Total = 0\n",
    "for movie in movies:\n",
    "    Total = (movie[1] + Total)"
   ]
  },
  {
   "cell_type": "code",
   "execution_count": 122,
   "id": "996460af-f410-474a-b4f9-f4c6770374cf",
   "metadata": {},
   "outputs": [],
   "source": [
    "Average_budget = Total / len(movies)"
   ]
  },
  {
   "cell_type": "code",
   "execution_count": 123,
   "id": "ba7c95eb-c38e-492c-8093-7223c6ce97bf",
   "metadata": {},
   "outputs": [
    {
     "data": {
      "text/plain": [
       "190500000.0"
      ]
     },
     "execution_count": 123,
     "metadata": {},
     "output_type": "execute_result"
    }
   ],
   "source": [
    "Average_budget"
   ]
  },
  {
   "cell_type": "code",
   "execution_count": 128,
   "id": "cf3b5759-e8ba-4997-a577-33b9c011fccb",
   "metadata": {},
   "outputs": [
    {
     "name": "stdout",
     "output_type": "stream",
     "text": [
      "188500000.0\n",
      "174500000.0\n",
      "165500000.0\n",
      "9500000.0\n"
     ]
    }
   ],
   "source": [
    "Above_average_count = 0\n",
    "for movie in movies:\n",
    "    if movie[1] > Average_budget:\n",
    "        print(movie[1]-Average_budget)\n",
    "        Above_average_count += 1"
   ]
  },
  {
   "cell_type": "code",
   "execution_count": 129,
   "id": "cb45ce91-0967-4c2d-8f83-4b996e91fa06",
   "metadata": {},
   "outputs": [
    {
     "name": "stdout",
     "output_type": "stream",
     "text": [
      "4\n"
     ]
    }
   ],
   "source": [
    "print(Above_average_count)"
   ]
  },
  {
   "cell_type": "code",
   "execution_count": null,
   "id": "750edefb-27ad-4c0a-9ff2-0a664d1f13d1",
   "metadata": {},
   "outputs": [],
   "source": []
  }
 ],
 "metadata": {
  "kernelspec": {
   "display_name": "Python 3 (ipykernel)",
   "language": "python",
   "name": "python3"
  },
  "language_info": {
   "codemirror_mode": {
    "name": "ipython",
    "version": 3
   },
   "file_extension": ".py",
   "mimetype": "text/x-python",
   "name": "python",
   "nbconvert_exporter": "python",
   "pygments_lexer": "ipython3",
   "version": "3.9.12"
  }
 },
 "nbformat": 4,
 "nbformat_minor": 5
}
