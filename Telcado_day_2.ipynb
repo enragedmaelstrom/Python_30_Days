{
 "cells": [
  {
   "cell_type": "code",
   "execution_count": 17,
   "id": "c1ee205a",
   "metadata": {},
   "outputs": [
    {
     "name": "stdout",
     "output_type": "stream",
     "text": [
      "Please enter your name:  Sneed\n"
     ]
    }
   ],
   "source": [
    "name = input(\"Please enter your name:  \")"
   ]
  },
  {
   "cell_type": "code",
   "execution_count": 15,
   "id": "0e28c1fd",
   "metadata": {
    "scrolled": true
   },
   "outputs": [
    {
     "name": "stdout",
     "output_type": "stream",
     "text": [
      "Please enter your age:  25\n"
     ]
    }
   ],
   "source": [
    "age = input(\"Please enter your age:  \")"
   ]
  },
  {
   "cell_type": "code",
   "execution_count": 18,
   "id": "534d74e8",
   "metadata": {},
   "outputs": [
    {
     "name": "stdout",
     "output_type": "stream",
     "text": [
      "Sneed 25\n"
     ]
    }
   ],
   "source": [
    "print(name,age)"
   ]
  },
  {
   "cell_type": "code",
   "execution_count": 19,
   "id": "58fa783c",
   "metadata": {},
   "outputs": [
    {
     "name": "stdout",
     "output_type": "stream",
     "text": [
      "Please enter your name:  weed\n"
     ]
    }
   ],
   "source": [
    "name = input(\"Please enter your name:  \")"
   ]
  },
  {
   "cell_type": "code",
   "execution_count": 1,
   "id": "7e63db13",
   "metadata": {},
   "outputs": [
    {
     "name": "stdout",
     "output_type": "stream",
     "text": [
      "Hourly wage: \n",
      "20\n",
      "Hours worked: \n",
      "20\n"
     ]
    }
   ],
   "source": [
    "hourly_wage = input(\"Please enter your hourly wage: \")\n",
    "hours_worked = input(\"How many hours did you work this week?: \")\n",
    "print(\"Hourly wage: \")\n",
    "print(hourly_wage)\n",
    "print(\"Hours worked: \")\n",
    "print(hours_worked)"
   ]
  },
  {
   "cell_type": "code",
   "execution_count": null,
   "id": "98677d9b",
   "metadata": {},
   "outputs": [],
   "source": []
  }
 ],
 "metadata": {
  "interpreter": {
   "hash": "f266cf34c087ab240ca49931b9424548a09c7d1a736c33c054224ca9349b9dc2"
  },
  "kernelspec": {
   "display_name": "Python 3.9.12 ('base')",
   "language": "python",
   "name": "python3"
  },
  "language_info": {
   "codemirror_mode": {
    "name": "ipython",
    "version": 3
   },
   "file_extension": ".py",
   "mimetype": "text/x-python",
   "name": "python",
   "nbconvert_exporter": "python",
   "pygments_lexer": "ipython3",
   "version": "3.9.12"
  }
 },
 "nbformat": 4,
 "nbformat_minor": 5
}
