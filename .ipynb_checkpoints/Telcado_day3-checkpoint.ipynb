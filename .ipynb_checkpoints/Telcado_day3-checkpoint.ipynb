{
 "cells": [
  {
   "cell_type": "code",
   "execution_count": 1,
   "id": "c4234250-266b-44f2-99a5-93984c6f1847",
   "metadata": {},
   "outputs": [
    {
     "name": "stdout",
     "output_type": "stream",
     "text": [
      "Hello, World\n"
     ]
    }
   ],
   "source": [
    "print(\"Hello, world\".title())"
   ]
  },
  {
   "cell_type": "code",
   "execution_count": 2,
   "id": "afc03871-fdc9-4eee-b205-ca3c668dfec0",
   "metadata": {},
   "outputs": [
    {
     "data": {
      "text/plain": [
       "'Hello, world!'"
      ]
     },
     "execution_count": 2,
     "metadata": {},
     "output_type": "execute_result"
    }
   ],
   "source": [
    "f\"Hello, world!\""
   ]
  },
  {
   "cell_type": "code",
   "execution_count": 3,
   "id": "48224ced-1229-4727-adc6-fcd52a2fd9e5",
   "metadata": {},
   "outputs": [],
   "source": [
    "greeting = f\"Hello, world!\""
   ]
  },
  {
   "cell_type": "code",
   "execution_count": 4,
   "id": "bc593a41-17de-4934-bbca-c5c3e92baad7",
   "metadata": {},
   "outputs": [
    {
     "data": {
      "text/plain": [
       "'Hello, world!'"
      ]
     },
     "execution_count": 4,
     "metadata": {},
     "output_type": "execute_result"
    }
   ],
   "source": [
    "greeting"
   ]
  },
  {
   "cell_type": "code",
   "execution_count": 5,
   "id": "b0556bf3-1017-4540-9439-ebc480b9e4ed",
   "metadata": {},
   "outputs": [],
   "source": [
    "greeting = \"Hello, world\""
   ]
  },
  {
   "cell_type": "code",
   "execution_count": 6,
   "id": "84403587-77e5-4f24-9715-c3cc1599f87e",
   "metadata": {},
   "outputs": [
    {
     "name": "stdout",
     "output_type": "stream",
     "text": [
      "Hello, world!\n"
     ]
    }
   ],
   "source": [
    "print(f\"Hello, world!\")"
   ]
  },
  {
   "cell_type": "code",
   "execution_count": 7,
   "id": "20afd6dc-6bf2-40bd-8e99-248cc8b56936",
   "metadata": {},
   "outputs": [
    {
     "name": "stdout",
     "output_type": "stream",
     "text": [
      "Hello, world\n"
     ]
    }
   ],
   "source": [
    "print(f\"{greeting}\")"
   ]
  },
  {
   "cell_type": "code",
   "execution_count": 8,
   "id": "4d1d9989-b9f7-4701-a3d7-0d74e8500128",
   "metadata": {},
   "outputs": [
    {
     "name": "stdout",
     "output_type": "stream",
     "text": [
      "Hello, world!\n"
     ]
    }
   ],
   "source": [
    "print(f\"{greeting}!\")"
   ]
  },
  {
   "cell_type": "code",
   "execution_count": 18,
   "id": "94d52891-bda7-4de0-b958-710115d3be71",
   "metadata": {},
   "outputs": [
    {
     "name": "stdout",
     "output_type": "stream",
     "text": [
      "\"Hello, world!\"\n"
     ]
    }
   ],
   "source": [
    "print(f\"\\\"{greeting}!\\\"\")"
   ]
  },
  {
   "cell_type": "code",
   "execution_count": 19,
   "id": "72b31b71-cbdb-4cea-b9df-a0ebfcd10a64",
   "metadata": {},
   "outputs": [
    {
     "name": "stdin",
     "output_type": "stream",
     "text": [
      "Please enter your name:  Sneed\n"
     ]
    }
   ],
   "source": [
    "name = input(\"Please enter your name: \")"
   ]
  },
  {
   "cell_type": "code",
   "execution_count": 22,
   "id": "cbff8acf-1fda-4be7-bf09-495bd6de68e1",
   "metadata": {},
   "outputs": [
    {
     "name": "stdout",
     "output_type": "stream",
     "text": [
      "Hello, Sneed!\n"
     ]
    }
   ],
   "source": [
    "print(f\"Hello, {name}!\")"
   ]
  },
  {
   "cell_type": "code",
   "execution_count": 23,
   "id": "398bdec5-3079-48a7-99ac-ded9b1d8209b",
   "metadata": {},
   "outputs": [
    {
     "ename": "SyntaxError",
     "evalue": "expression cannot contain assignment, perhaps you meant \"==\"? (1661100494.py, line 1)",
     "output_type": "error",
     "traceback": [
      "\u001b[1;36m  Input \u001b[1;32mIn [23]\u001b[1;36m\u001b[0m\n\u001b[1;33m    print(f\"I am {age}\" + age = 29)\u001b[0m\n\u001b[1;37m          ^\u001b[0m\n\u001b[1;31mSyntaxError\u001b[0m\u001b[1;31m:\u001b[0m expression cannot contain assignment, perhaps you meant \"==\"?\n"
     ]
    }
   ],
   "source": [
    "print(f\"I am {age}\" + age = 29)"
   ]
  },
  {
   "cell_type": "code",
   "execution_count": 24,
   "id": "d931aae4-bd98-4ec3-b6cc-2b0ed6aaf39b",
   "metadata": {},
   "outputs": [
    {
     "name": "stdin",
     "output_type": "stream",
     "text": [
      "Please enter your age:  29\n"
     ]
    }
   ],
   "source": [
    "age = input(\"Please enter your age: \")"
   ]
  },
  {
   "cell_type": "code",
   "execution_count": 26,
   "id": "219e8028-fc15-4a55-b4b4-6f5d24dc5ba9",
   "metadata": {},
   "outputs": [
    {
     "name": "stdout",
     "output_type": "stream",
     "text": [
      "I am 29\n"
     ]
    }
   ],
   "source": [
    "print(\"I am \" + age)"
   ]
  },
  {
   "cell_type": "code",
   "execution_count": 27,
   "id": "cc28178e-bc08-481e-aa58-8152007c597b",
   "metadata": {},
   "outputs": [],
   "source": [
    "title = \"Joker\"\n",
    "director = \"Todd Phillips\"\n",
    "release_year = 2019"
   ]
  },
  {
   "cell_type": "code",
   "execution_count": 31,
   "id": "0fc1489c-8a00-4255-b83b-bdd35a752feb",
   "metadata": {},
   "outputs": [
    {
     "name": "stdout",
     "output_type": "stream",
     "text": [
      "Joker (2019), directed by Todd Phillips \n"
     ]
    }
   ],
   "source": [
    "print(f\"{title} ({release_year}), directed by {director} \")"
   ]
  },
  {
   "cell_type": "code",
   "execution_count": null,
   "id": "58b1ba22-7f56-4fd2-8fae-dcdaf22de35e",
   "metadata": {},
   "outputs": [],
   "source": []
  }
 ],
 "metadata": {
  "kernelspec": {
   "display_name": "Python 3 (ipykernel)",
   "language": "python",
   "name": "python3"
  },
  "language_info": {
   "codemirror_mode": {
    "name": "ipython",
    "version": 3
   },
   "file_extension": ".py",
   "mimetype": "text/x-python",
   "name": "python",
   "nbconvert_exporter": "python",
   "pygments_lexer": "ipython3",
   "version": "3.9.12"
  }
 },
 "nbformat": 4,
 "nbformat_minor": 5
}
