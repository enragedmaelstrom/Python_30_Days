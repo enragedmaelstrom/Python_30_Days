{
 "cells": [
  {
   "cell_type": "code",
   "execution_count": 6,
   "id": "3276e24b-5b4a-4342-8430-78c051f201fa",
   "metadata": {},
   "outputs": [],
   "source": [
    "movie_list = [\n",
    "    (\"Sweeny Todd\", \"Sneed\", 2007, 50)\n",
    "]"
   ]
  },
  {
   "cell_type": "code",
   "execution_count": 8,
   "id": "29055fcd-9de1-419e-ad4a-09c64b13146c",
   "metadata": {},
   "outputs": [
    {
     "name": "stdin",
     "output_type": "stream",
     "text": [
      "Enter a movie title:  Scott Pilgrim vs the NEETs\n",
      "Please enter the director's name:  Sweeny Todd\n",
      "Please enter the year of release:  1492\n",
      "Please enter the movie's budget:  3.50\n"
     ]
    }
   ],
   "source": [
    "title = input(\"Enter a movie title: \")\n",
    "director = input(\"Please enter the director's name: \")\n",
    "release_year = input(\"Please enter the year of release: \")\n",
    "budget = float(input(\"Please enter the movie's budget: \"))"
   ]
  },
  {
   "cell_type": "code",
   "execution_count": 9,
   "id": "0f308ee2-0aa1-42c5-9dfa-fc0061dbf24c",
   "metadata": {},
   "outputs": [],
   "source": [
    "movie = (title, director, release_year, budget)"
   ]
  },
  {
   "cell_type": "code",
   "execution_count": 10,
   "id": "64feac92-6d80-4a01-a7a4-a5e9f111288f",
   "metadata": {},
   "outputs": [
    {
     "data": {
      "text/plain": [
       "('Scott Pilgrim vs the NEETs', 'Sweeny Todd', '1492', 3.5)"
      ]
     },
     "execution_count": 10,
     "metadata": {},
     "output_type": "execute_result"
    }
   ],
   "source": [
    "movie"
   ]
  },
  {
   "cell_type": "code",
   "execution_count": 11,
   "id": "8cfe2746-cf66-4917-8d35-19c41fb556e2",
   "metadata": {},
   "outputs": [
    {
     "name": "stdout",
     "output_type": "stream",
     "text": [
      "Scott Pilgrim vs the NEETs, 1492\n"
     ]
    }
   ],
   "source": [
    "print(f\"{title}, {release_year}\")"
   ]
  },
  {
   "cell_type": "code",
   "execution_count": 12,
   "id": "160db221-638b-4994-964d-98e5e4725ee8",
   "metadata": {},
   "outputs": [],
   "source": [
    "movie_list.append(movie)"
   ]
  },
  {
   "cell_type": "code",
   "execution_count": 13,
   "id": "d0b61313-babd-48fa-acb8-5428e2719221",
   "metadata": {},
   "outputs": [
    {
     "data": {
      "text/plain": [
       "[('Sweeny Todd', 'Sneed', 2007, 50),\n",
       " ('Scott Pilgrim vs the NEETs', 'Sweeny Todd', '1492', 3.5)]"
      ]
     },
     "execution_count": 13,
     "metadata": {},
     "output_type": "execute_result"
    }
   ],
   "source": [
    "movie_list"
   ]
  },
  {
   "cell_type": "code",
   "execution_count": 14,
   "id": "05ea160f-ca9d-4642-99bb-9fcf6e449a5d",
   "metadata": {},
   "outputs": [
    {
     "name": "stdout",
     "output_type": "stream",
     "text": [
      "[('Sweeny Todd', 'Sneed', 2007, 50), ('Scott Pilgrim vs the NEETs', 'Sweeny Todd', '1492', 3.5)]\n"
     ]
    }
   ],
   "source": [
    "print(movie_list)"
   ]
  },
  {
   "cell_type": "code",
   "execution_count": 15,
   "id": "2d2057b1-7406-4c45-b4a3-23fd2b699477",
   "metadata": {},
   "outputs": [
    {
     "name": "stdout",
     "output_type": "stream",
     "text": [
      "('Sweeny Todd', 'Sneed', 2007, 50)\n"
     ]
    }
   ],
   "source": [
    "print(movie_list[0])"
   ]
  },
  {
   "cell_type": "code",
   "execution_count": 16,
   "id": "af6b3fbf-4f33-47d4-afb8-d3197acce9e8",
   "metadata": {},
   "outputs": [
    {
     "name": "stdout",
     "output_type": "stream",
     "text": [
      "('Scott Pilgrim vs the NEETs', 'Sweeny Todd', '1492', 3.5)\n"
     ]
    }
   ],
   "source": [
    "print(movie_list[1])"
   ]
  },
  {
   "cell_type": "code",
   "execution_count": 17,
   "id": "a30e6ba7-21fc-43cc-b7ab-77821807f27b",
   "metadata": {},
   "outputs": [
    {
     "data": {
      "text/plain": [
       "('Sweeny Todd', 'Sneed', 2007, 50)"
      ]
     },
     "execution_count": 17,
     "metadata": {},
     "output_type": "execute_result"
    }
   ],
   "source": [
    "movie_list.pop(0)"
   ]
  },
  {
   "cell_type": "code",
   "execution_count": 18,
   "id": "ce50b386-c5f2-48b7-8f1f-3a171b30ba54",
   "metadata": {},
   "outputs": [
    {
     "data": {
      "text/plain": [
       "[('Scott Pilgrim vs the NEETs', 'Sweeny Todd', '1492', 3.5)]"
      ]
     },
     "execution_count": 18,
     "metadata": {},
     "output_type": "execute_result"
    }
   ],
   "source": [
    "movie_list"
   ]
  },
  {
   "cell_type": "code",
   "execution_count": null,
   "id": "6a969715-3a97-427e-bb22-8b21f9ecea90",
   "metadata": {},
   "outputs": [],
   "source": []
  }
 ],
 "metadata": {
  "kernelspec": {
   "display_name": "Python 3 (ipykernel)",
   "language": "python",
   "name": "python3"
  },
  "language_info": {
   "codemirror_mode": {
    "name": "ipython",
    "version": 3
   },
   "file_extension": ".py",
   "mimetype": "text/x-python",
   "name": "python",
   "nbconvert_exporter": "python",
   "pygments_lexer": "ipython3",
   "version": "3.9.12"
  }
 },
 "nbformat": 4,
 "nbformat_minor": 5
}
