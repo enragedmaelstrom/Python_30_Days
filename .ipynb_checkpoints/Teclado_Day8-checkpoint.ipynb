{
 "cells": [
  {
   "cell_type": "code",
   "execution_count": 48,
   "id": "78726808-feec-40e2-a6a5-3307c48e4cc9",
   "metadata": {},
   "outputs": [
    {
     "ename": "KeyboardInterrupt",
     "evalue": "Interrupted by user",
     "output_type": "error",
     "traceback": [
      "\u001b[1;31m---------------------------------------------------------------------------\u001b[0m",
      "\u001b[1;31mKeyboardInterrupt\u001b[0m                         Traceback (most recent call last)",
      "Input \u001b[1;32mIn [48]\u001b[0m, in \u001b[0;36m<cell line: 2>\u001b[1;34m()\u001b[0m\n\u001b[0;32m      1\u001b[0m \u001b[38;5;28;01mwhile\u001b[39;00m \u001b[38;5;28;01mTrue\u001b[39;00m:\n\u001b[1;32m----> 2\u001b[0m     guess \u001b[38;5;241m=\u001b[39m \u001b[38;5;28mint\u001b[39m(\u001b[38;5;28;43minput\u001b[39;49m\u001b[43m(\u001b[49m\u001b[38;5;124;43m\"\u001b[39;49m\u001b[38;5;124;43mPlease enter a number between 1 and 100: \u001b[39;49m\u001b[38;5;124;43m\"\u001b[39;49m\u001b[43m)\u001b[49m)\n\u001b[0;32m      3\u001b[0m     correct_guess \u001b[38;5;241m=\u001b[39m \u001b[38;5;241m37\u001b[39m\n\u001b[0;32m      5\u001b[0m     \u001b[38;5;28;01mif\u001b[39;00m guess \u001b[38;5;241m<\u001b[39m correct_guess:\n",
      "File \u001b[1;32mE:\\Downloads\\Portfolio-master\\Newfolder\\lib\\site-packages\\ipykernel\\kernelbase.py:1075\u001b[0m, in \u001b[0;36mKernel.raw_input\u001b[1;34m(self, prompt)\u001b[0m\n\u001b[0;32m   1071\u001b[0m \u001b[38;5;28;01mif\u001b[39;00m \u001b[38;5;129;01mnot\u001b[39;00m \u001b[38;5;28mself\u001b[39m\u001b[38;5;241m.\u001b[39m_allow_stdin:\n\u001b[0;32m   1072\u001b[0m     \u001b[38;5;28;01mraise\u001b[39;00m StdinNotImplementedError(\n\u001b[0;32m   1073\u001b[0m         \u001b[38;5;124m\"\u001b[39m\u001b[38;5;124mraw_input was called, but this frontend does not support input requests.\u001b[39m\u001b[38;5;124m\"\u001b[39m\n\u001b[0;32m   1074\u001b[0m     )\n\u001b[1;32m-> 1075\u001b[0m \u001b[38;5;28;01mreturn\u001b[39;00m \u001b[38;5;28;43mself\u001b[39;49m\u001b[38;5;241;43m.\u001b[39;49m\u001b[43m_input_request\u001b[49m\u001b[43m(\u001b[49m\n\u001b[0;32m   1076\u001b[0m \u001b[43m    \u001b[49m\u001b[38;5;28;43mstr\u001b[39;49m\u001b[43m(\u001b[49m\u001b[43mprompt\u001b[49m\u001b[43m)\u001b[49m\u001b[43m,\u001b[49m\n\u001b[0;32m   1077\u001b[0m \u001b[43m    \u001b[49m\u001b[38;5;28;43mself\u001b[39;49m\u001b[38;5;241;43m.\u001b[39;49m\u001b[43m_parent_ident\u001b[49m\u001b[43m[\u001b[49m\u001b[38;5;124;43m\"\u001b[39;49m\u001b[38;5;124;43mshell\u001b[39;49m\u001b[38;5;124;43m\"\u001b[39;49m\u001b[43m]\u001b[49m\u001b[43m,\u001b[49m\n\u001b[0;32m   1078\u001b[0m \u001b[43m    \u001b[49m\u001b[38;5;28;43mself\u001b[39;49m\u001b[38;5;241;43m.\u001b[39;49m\u001b[43mget_parent\u001b[49m\u001b[43m(\u001b[49m\u001b[38;5;124;43m\"\u001b[39;49m\u001b[38;5;124;43mshell\u001b[39;49m\u001b[38;5;124;43m\"\u001b[39;49m\u001b[43m)\u001b[49m\u001b[43m,\u001b[49m\n\u001b[0;32m   1079\u001b[0m \u001b[43m    \u001b[49m\u001b[43mpassword\u001b[49m\u001b[38;5;241;43m=\u001b[39;49m\u001b[38;5;28;43;01mFalse\u001b[39;49;00m\u001b[43m,\u001b[49m\n\u001b[0;32m   1080\u001b[0m \u001b[43m\u001b[49m\u001b[43m)\u001b[49m\n",
      "File \u001b[1;32mE:\\Downloads\\Portfolio-master\\Newfolder\\lib\\site-packages\\ipykernel\\kernelbase.py:1120\u001b[0m, in \u001b[0;36mKernel._input_request\u001b[1;34m(self, prompt, ident, parent, password)\u001b[0m\n\u001b[0;32m   1117\u001b[0m             \u001b[38;5;28;01mbreak\u001b[39;00m\n\u001b[0;32m   1118\u001b[0m \u001b[38;5;28;01mexcept\u001b[39;00m \u001b[38;5;167;01mKeyboardInterrupt\u001b[39;00m:\n\u001b[0;32m   1119\u001b[0m     \u001b[38;5;66;03m# re-raise KeyboardInterrupt, to truncate traceback\u001b[39;00m\n\u001b[1;32m-> 1120\u001b[0m     \u001b[38;5;28;01mraise\u001b[39;00m \u001b[38;5;167;01mKeyboardInterrupt\u001b[39;00m(\u001b[38;5;124m\"\u001b[39m\u001b[38;5;124mInterrupted by user\u001b[39m\u001b[38;5;124m\"\u001b[39m) \u001b[38;5;28;01mfrom\u001b[39;00m \u001b[38;5;28mNone\u001b[39m\n\u001b[0;32m   1121\u001b[0m \u001b[38;5;28;01mexcept\u001b[39;00m \u001b[38;5;167;01mException\u001b[39;00m:\n\u001b[0;32m   1122\u001b[0m     \u001b[38;5;28mself\u001b[39m\u001b[38;5;241m.\u001b[39mlog\u001b[38;5;241m.\u001b[39mwarning(\u001b[38;5;124m\"\u001b[39m\u001b[38;5;124mInvalid Message:\u001b[39m\u001b[38;5;124m\"\u001b[39m, exc_info\u001b[38;5;241m=\u001b[39m\u001b[38;5;28;01mTrue\u001b[39;00m)\n",
      "\u001b[1;31mKeyboardInterrupt\u001b[0m: Interrupted by user"
     ]
    }
   ],
   "source": [
    "while True:\n",
    "    guess = int(input(\"Please enter a number between 1 and 100: \"))\n",
    "    correct_guess = 37\n",
    "\n",
    "    if guess < correct_guess:\n",
    "        print(f\"Your guess is lower.\")\n",
    "\n",
    "    elif guess > correct_guess:\n",
    "        print(f\"Your guess is higher.\")\n",
    "    elif guess == correct_guess:\n",
    "        print(f\"Sneed.\")\n",
    "        break\n",
    "    else:\n",
    "        print(f\"Incorrect option.\")"
   ]
  },
  {
   "cell_type": "code",
   "execution_count": 58,
   "id": "5500dce0-8823-4ab1-a0b2-e8054604bfc6",
   "metadata": {},
   "outputs": [
    {
     "name": "stdout",
     "output_type": "stream",
     "text": [
      "p\n",
      "y\n",
      "t\n",
      "h\n",
      "n\n"
     ]
    }
   ],
   "source": [
    "word = \"python\"\n",
    "\n",
    "i = -1\n",
    "while i < len(word)-1:\n",
    "    i += 1\n",
    "    if word[i] == 'o':\n",
    "        continue\n",
    "    print(word[i])"
   ]
  },
  {
   "cell_type": "code",
   "execution_count": 62,
   "id": "9290fdb0-477b-4919-bbd7-881da5627b8b",
   "metadata": {},
   "outputs": [
    {
     "name": "stdout",
     "output_type": "stream",
     "text": [
      "2 is prime!\n",
      "3 is prime!\n",
      "4 is not prime!\n",
      "5 is prime!\n",
      "6 is not prime!\n",
      "7 is prime!\n",
      "8 is not prime!\n",
      "9 is not prime!\n",
      "10 is not prime!\n",
      "11 is prime!\n",
      "12 is not prime!\n",
      "13 is prime!\n",
      "14 is not prime!\n",
      "15 is not prime!\n",
      "16 is not prime!\n",
      "17 is prime!\n",
      "18 is not prime!\n",
      "19 is prime!\n",
      "20 is not prime!\n",
      "21 is not prime!\n",
      "22 is not prime!\n",
      "23 is prime!\n",
      "24 is not prime!\n",
      "25 is not prime!\n",
      "26 is not prime!\n",
      "27 is not prime!\n",
      "28 is not prime!\n",
      "29 is prime!\n",
      "30 is not prime!\n",
      "31 is prime!\n",
      "32 is not prime!\n",
      "33 is not prime!\n",
      "34 is not prime!\n",
      "35 is not prime!\n",
      "36 is not prime!\n",
      "37 is prime!\n",
      "38 is not prime!\n",
      "39 is not prime!\n",
      "40 is not prime!\n",
      "41 is prime!\n",
      "42 is not prime!\n",
      "43 is prime!\n",
      "44 is not prime!\n",
      "45 is not prime!\n",
      "46 is not prime!\n",
      "47 is prime!\n",
      "48 is not prime!\n",
      "49 is not prime!\n",
      "50 is not prime!\n",
      "51 is not prime!\n",
      "52 is not prime!\n",
      "53 is prime!\n",
      "54 is not prime!\n",
      "55 is not prime!\n",
      "56 is not prime!\n",
      "57 is not prime!\n",
      "58 is not prime!\n",
      "59 is prime!\n",
      "60 is not prime!\n",
      "61 is prime!\n",
      "62 is not prime!\n",
      "63 is not prime!\n",
      "64 is not prime!\n",
      "65 is not prime!\n",
      "66 is not prime!\n",
      "67 is prime!\n",
      "68 is not prime!\n",
      "69 is not prime!\n",
      "70 is not prime!\n",
      "71 is prime!\n",
      "72 is not prime!\n",
      "73 is prime!\n",
      "74 is not prime!\n",
      "75 is not prime!\n",
      "76 is not prime!\n",
      "77 is not prime!\n",
      "78 is not prime!\n",
      "79 is prime!\n",
      "80 is not prime!\n",
      "81 is not prime!\n",
      "82 is not prime!\n",
      "83 is prime!\n",
      "84 is not prime!\n",
      "85 is not prime!\n",
      "86 is not prime!\n",
      "87 is not prime!\n",
      "88 is not prime!\n",
      "89 is prime!\n",
      "90 is not prime!\n",
      "91 is not prime!\n",
      "92 is not prime!\n",
      "93 is not prime!\n",
      "94 is not prime!\n",
      "95 is not prime!\n",
      "96 is not prime!\n",
      "97 is prime!\n",
      "98 is not prime!\n",
      "99 is not prime!\n",
      "100 is not prime!\n"
     ]
    }
   ],
   "source": [
    "for sneed in range(2, 101):\n",
    "    for chuck in range(2, sneed):\n",
    "        if sneed % chuck == 0:\n",
    "            print(f\"{sneed} is not prime!\")\n",
    "            break\n",
    "    else:\n",
    "        print(f\"{sneed} is prime!\")"
   ]
  },
  {
   "cell_type": "code",
   "execution_count": null,
   "id": "87f28643-6726-4baa-a781-3dc2bae0e70d",
   "metadata": {},
   "outputs": [],
   "source": []
  }
 ],
 "metadata": {
  "kernelspec": {
   "display_name": "Python 3 (ipykernel)",
   "language": "python",
   "name": "python3"
  },
  "language_info": {
   "codemirror_mode": {
    "name": "ipython",
    "version": 3
   },
   "file_extension": ".py",
   "mimetype": "text/x-python",
   "name": "python",
   "nbconvert_exporter": "python",
   "pygments_lexer": "ipython3",
   "version": "3.9.12"
  }
 },
 "nbformat": 4,
 "nbformat_minor": 5
}
