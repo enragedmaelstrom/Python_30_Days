{
 "cells": [
  {
   "cell_type": "code",
   "execution_count": 3,
   "id": "b4e06984",
   "metadata": {},
   "outputs": [
    {
     "name": "stdout",
     "output_type": "stream",
     "text": [
      "0.7692307692307693\n",
      "10.0\n",
      "11.0\n"
     ]
    }
   ],
   "source": [
    "print(5/6.5)\n",
    "print(20/2)\n",
    "print(5.5/0.5)"
   ]
  },
  {
   "cell_type": "code",
   "execution_count": 4,
   "id": "56e5ae44",
   "metadata": {},
   "outputs": [
    {
     "name": "stdout",
     "output_type": "stream",
     "text": [
      "25\n"
     ]
    }
   ],
   "source": [
    "print(25)"
   ]
  },
  {
   "cell_type": "code",
   "execution_count": 5,
   "id": "1d2ec48b",
   "metadata": {},
   "outputs": [
    {
     "name": "stdout",
     "output_type": "stream",
     "text": [
      "9855\n"
     ]
    }
   ],
   "source": [
    "print(365*27)"
   ]
  },
  {
   "cell_type": "code",
   "execution_count": 6,
   "id": "ebc5ad31",
   "metadata": {},
   "outputs": [
    {
     "name": "stdout",
     "output_type": "stream",
     "text": [
      "1404\n"
     ]
    }
   ],
   "source": [
    "print(52*27)"
   ]
  },
  {
   "cell_type": "code",
   "execution_count": 7,
   "id": "22f0ff39",
   "metadata": {},
   "outputs": [
    {
     "name": "stdout",
     "output_type": "stream",
     "text": [
      "324\n"
     ]
    }
   ],
   "source": [
    "print(12*27)"
   ]
  },
  {
   "cell_type": "code",
   "execution_count": 1,
   "id": "27241c97",
   "metadata": {},
   "outputs": [
    {
     "name": "stdout",
     "output_type": "stream",
     "text": [
      "78.525\n",
      "78.525\n",
      "78.525\n"
     ]
    }
   ],
   "source": [
    "print(3.141 * 5 * 5)\n",
    "print(3.141 * 5 ** 2)\n",
    "print(3.141 * pow(5, 2))"
   ]
  }
 ],
 "metadata": {
  "interpreter": {
   "hash": "f266cf34c087ab240ca49931b9424548a09c7d1a736c33c054224ca9349b9dc2"
  },
  "kernelspec": {
   "display_name": "Python 3.9.12 ('base')",
   "language": "python",
   "name": "python3"
  },
  "language_info": {
   "codemirror_mode": {
    "name": "ipython",
    "version": 3
   },
   "file_extension": ".py",
   "mimetype": "text/x-python",
   "name": "python",
   "nbconvert_exporter": "python",
   "pygments_lexer": "ipython3",
   "version": "3.9.12"
  }
 },
 "nbformat": 4,
 "nbformat_minor": 5
}
