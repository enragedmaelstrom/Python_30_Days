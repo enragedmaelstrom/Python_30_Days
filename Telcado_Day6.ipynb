{
 "cells": [
  {
   "cell_type": "code",
   "execution_count": 13,
   "id": "eaf774d3-a2da-4079-9ce1-129a64cab274",
   "metadata": {},
   "outputs": [
    {
     "name": "stdout",
     "output_type": "stream",
     "text": [
      "Anne Pun 375.0\n",
      "Charlie Lee 775.0\n"
     ]
    }
   ],
   "source": [
    "employees = [\n",
    "    (\"Rolf Smith\", 35, 8.75),\n",
    "    (\"Anne Pun\", 30, 12.50),\n",
    "    (\"Charlie Lee\", 50, 15.50),\n",
    "    (\"Bob Smith\", 20, 7.00)\n",
    "]\n",
    "Average = (employees[0][2]+employees[1][2]+employees[2][2]+employees[3][2])/4\n",
    "for employee in employees:\n",
    "    if employee[2] > Average:\n",
    "        print(employee[0], employee[1]*employee[2])\n",
    "    "
   ]
  },
  {
   "cell_type": "code",
   "execution_count": 12,
   "id": "742bc6d2-e774-4411-b2e4-0a868d48ad0a",
   "metadata": {},
   "outputs": [
    {
     "data": {
      "text/plain": [
       "10.9375"
      ]
     },
     "execution_count": 12,
     "metadata": {},
     "output_type": "execute_result"
    }
   ],
   "source": [
    "Average"
   ]
  },
  {
   "cell_type": "code",
   "execution_count": 30,
   "id": "6e61f8d8-2600-43fa-967b-255f455733da",
   "metadata": {},
   "outputs": [
    {
     "name": "stdout",
     "output_type": "stream",
     "text": [
      "range(1, 101)\n",
      "1\n",
      "2\n",
      "Fizz\n",
      "4\n",
      "Buzz\n",
      "Fizz\n",
      "7\n",
      "8\n",
      "Fizz\n",
      "Buzz\n",
      "11\n",
      "Fizz\n",
      "13\n",
      "14\n",
      "Fizz Buzz\n",
      "16\n",
      "17\n",
      "Fizz\n",
      "19\n",
      "Buzz\n",
      "Fizz\n",
      "22\n",
      "23\n",
      "Fizz\n",
      "Buzz\n",
      "26\n",
      "Fizz\n",
      "28\n",
      "29\n",
      "Fizz Buzz\n",
      "31\n",
      "32\n",
      "Fizz\n",
      "34\n",
      "Buzz\n",
      "Fizz\n",
      "37\n",
      "38\n",
      "Fizz\n",
      "Buzz\n",
      "41\n",
      "Fizz\n",
      "43\n",
      "44\n",
      "Fizz Buzz\n",
      "46\n",
      "47\n",
      "Fizz\n",
      "49\n",
      "Buzz\n",
      "Fizz\n",
      "52\n",
      "53\n",
      "Fizz\n",
      "Buzz\n",
      "56\n",
      "Fizz\n",
      "58\n",
      "59\n",
      "Fizz Buzz\n",
      "61\n",
      "62\n",
      "Fizz\n",
      "64\n",
      "Buzz\n",
      "Fizz\n",
      "67\n",
      "68\n",
      "Fizz\n",
      "Buzz\n",
      "71\n",
      "Fizz\n",
      "73\n",
      "74\n",
      "Fizz Buzz\n",
      "76\n",
      "77\n",
      "Fizz\n",
      "79\n",
      "Buzz\n",
      "Fizz\n",
      "82\n",
      "83\n",
      "Fizz\n",
      "Buzz\n",
      "86\n",
      "Fizz\n",
      "88\n",
      "89\n",
      "Fizz Buzz\n",
      "91\n",
      "92\n",
      "Fizz\n",
      "94\n",
      "Buzz\n",
      "Fizz\n",
      "97\n",
      "98\n",
      "Fizz\n",
      "Buzz\n"
     ]
    }
   ],
   "source": [
    "numbers = list(range(1,101))\n",
    "print(range(1,101))\n",
    "for number in numbers:\n",
    "    if number %3 == 0 and number %5 == 0:\n",
    "        print(\"Fizz Buzz\")\n",
    "    elif number %5 == 0:\n",
    "        print(\"Buzz\")\n",
    "    elif number %3 == 0:\n",
    "        print(\"Fizz\")\n",
    "    else: print(number)\n",
    "    \n",
    "    "
   ]
  },
  {
   "cell_type": "code",
   "execution_count": null,
   "id": "14a0eaa5-1100-4b66-8ffb-889d23e92e90",
   "metadata": {},
   "outputs": [],
   "source": []
  }
 ],
 "metadata": {
  "kernelspec": {
   "display_name": "Python 3 (ipykernel)",
   "language": "python",
   "name": "python3"
  },
  "language_info": {
   "codemirror_mode": {
    "name": "ipython",
    "version": 3
   },
   "file_extension": ".py",
   "mimetype": "text/x-python",
   "name": "python",
   "nbconvert_exporter": "python",
   "pygments_lexer": "ipython3",
   "version": "3.9.12"
  }
 },
 "nbformat": 4,
 "nbformat_minor": 5
}
