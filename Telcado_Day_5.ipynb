{
 "cells": [
  {
   "cell_type": "code",
   "execution_count": 1,
   "id": "ed5a0af6-5bbc-42eb-b511-c05657b7ca8a",
   "metadata": {},
   "outputs": [],
   "source": [
    "numbers = [1, 2, 3, 4]\n",
    "new_numbers = numbers + [5]"
   ]
  },
  {
   "cell_type": "code",
   "execution_count": 2,
   "id": "6c7e7071-9485-422f-98de-88c818dda6cc",
   "metadata": {},
   "outputs": [],
   "source": [
    "numbers = [1, 2, 3, 4]\n",
    "numbers.append(5)"
   ]
  },
  {
   "cell_type": "code",
   "execution_count": 3,
   "id": "799320f7-45a1-4aca-b2ed-d8c629fd61d2",
   "metadata": {},
   "outputs": [
    {
     "name": "stdout",
     "output_type": "stream",
     "text": [
      "False\n"
     ]
    }
   ],
   "source": [
    "print(new_numbers is numbers)"
   ]
  },
  {
   "cell_type": "code",
   "execution_count": 4,
   "id": "8256fe21-33b5-481f-b6ca-77e15396f7f7",
   "metadata": {},
   "outputs": [
    {
     "name": "stdout",
     "output_type": "stream",
     "text": [
      "1697347117568\n"
     ]
    }
   ],
   "source": [
    "print(id(new_numbers))"
   ]
  },
  {
   "cell_type": "code",
   "execution_count": 5,
   "id": "ad1e1270-7c9d-4869-9b0b-cc2be057d38f",
   "metadata": {},
   "outputs": [
    {
     "name": "stdout",
     "output_type": "stream",
     "text": [
      "1697347118720\n"
     ]
    }
   ],
   "source": [
    "print(id(numbers))"
   ]
  },
  {
   "cell_type": "code",
   "execution_count": 12,
   "id": "689f7609-6bca-4882-9906-e8af6ea85e05",
   "metadata": {},
   "outputs": [
    {
     "name": "stdin",
     "output_type": "stream",
     "text": [
      "Please enter a number:  2\n"
     ]
    },
    {
     "name": "stdout",
     "output_type": "stream",
     "text": [
      "Your number is positive\n"
     ]
    }
   ],
   "source": [
    "number = float(input(\"Please enter a number: \" ))\n",
    "if number > 0: \n",
    "    print(f\"Your number is positive\")\n",
    "elif number == 0:\n",
    "    print(f\"Your number is zero\")\n",
    "else:\n",
    "    print(f\"Your number is negative\")"
   ]
  },
  {
   "cell_type": "code",
   "execution_count": 18,
   "id": "5da64b53-bf25-430c-944c-355b8699a6e4",
   "metadata": {},
   "outputs": [
    {
     "name": "stdin",
     "output_type": "stream",
     "text": [
      "Please enter the amount of hours worked:  45\n",
      "Please enter your hourly wage:  69\n"
     ]
    },
    {
     "name": "stdout",
     "output_type": "stream",
     "text": [
      "You are due for additional pay: 379.50000000000006\n"
     ]
    }
   ],
   "source": [
    "hours_worked = float(input(\"Please enter the amount of hours worked: \"))\n",
    "\n",
    "hourly_wage = float(input(\"Please enter your hourly wage: \"))\n",
    "if hours_worked > 40:\n",
    "                    print(f\"You are due for additional pay: {(hours_worked - 40) * hourly_wage * 1.10}\")\n",
    "                    \n",
    "else:\n",
    "                    print(f\"Here is your wage, wagie {hours_worked * hourly_wage}\")\n",
    "                    "
   ]
  },
  {
   "cell_type": "code",
   "execution_count": 15,
   "id": "121896d4-ea71-406a-b6e1-65e93e8d0aa8",
   "metadata": {},
   "outputs": [
    {
     "data": {
      "text/plain": [
       "20.35"
      ]
     },
     "execution_count": 15,
     "metadata": {},
     "output_type": "execute_result"
    }
   ],
   "source": [
    "hourly_wage"
   ]
  },
  {
   "cell_type": "code",
   "execution_count": 16,
   "id": "e039e0db-ffd1-44bc-b7b8-73d18d9ef6ad",
   "metadata": {},
   "outputs": [
    {
     "data": {
      "text/plain": [
       "854.7"
      ]
     },
     "execution_count": 16,
     "metadata": {},
     "output_type": "execute_result"
    }
   ],
   "source": [
    "42 * 20.35"
   ]
  },
  {
   "cell_type": "code",
   "execution_count": null,
   "id": "8b9b87ed-2800-4840-8b00-1b42ed687cf3",
   "metadata": {},
   "outputs": [],
   "source": []
  }
 ],
 "metadata": {
  "kernelspec": {
   "display_name": "Python 3 (ipykernel)",
   "language": "python",
   "name": "python3"
  },
  "language_info": {
   "codemirror_mode": {
    "name": "ipython",
    "version": 3
   },
   "file_extension": ".py",
   "mimetype": "text/x-python",
   "name": "python",
   "nbconvert_exporter": "python",
   "pygments_lexer": "ipython3",
   "version": "3.9.12"
  }
 },
 "nbformat": 4,
 "nbformat_minor": 5
}
